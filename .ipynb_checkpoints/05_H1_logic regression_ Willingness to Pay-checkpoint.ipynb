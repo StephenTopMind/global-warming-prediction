{
 "cells": [
  {
   "cell_type": "code",
   "execution_count": 4,
   "id": "0903ff89-2795-4e83-acc2-a2002ad5585b",
   "metadata": {},
   "outputs": [
    {
     "name": "stdout",
     "output_type": "stream",
     "text": [
      "\n",
      "--- Logistic Regression (Final Version) ---\n",
      "Accuracy: 0.6825396825396826\n",
      "              precision    recall  f1-score   support\n",
      "\n",
      "           0       0.68      0.72      0.70        32\n",
      "           1       0.69      0.65      0.67        31\n",
      "\n",
      "    accuracy                           0.68        63\n",
      "   macro avg       0.68      0.68      0.68        63\n",
      "weighted avg       0.68      0.68      0.68        63\n",
      "\n"
     ]
    },
    {
     "data": {
      "image/png": "[encoded data removed]",
      "text/plain": [
       "<Figure size 600x400 with 2 Axes>"
      ]
     },
     "metadata": {},
     "output_type": "display_data"
    }
   ],
   "source": [
    "import pandas as pd\n",
    "import numpy as np\n",
    "from sklearn.model_selection import train_test_split\n",
    "from sklearn.linear_model import LogisticRegression\n",
    "from sklearn.metrics import accuracy_score, classification_report, confusion_matrix\n",
    "import matplotlib.pyplot as plt\n",
    "import seaborn as sns\n",
    "\n",
    "# STEP 1 — Load the full encoded dataset\n",
    "df = pd.read_excel(\"fully_encoded_dataset_complete.xlsx\")\n",
    "\n",
    "# STEP 2 — Select and rename columns\n",
    "df_model = df[[\n",
    "    '33. Would you personally be willing to pay higher energy bills to support more renewable energy development (solar, wind, etc.)?',\n",
    "    '1. Do you think that global warming is happening?',\n",
    "    '5. How worried are you about global warming?',\n",
    "    '7. How much do you think global warming will harm future generations of people?',\n",
    "    '9. How much do you think global warming will harm people?',\n",
    "    '13. Fund more research into renewable energy sources, such as solar and wind power.',\n",
    "    '15. Require fossil fuel companies to pay a carbon tax and use the money to reduce other taxes (such as income tax) by an equal amount.',\n",
    "    '16. Provide tax rebates for people who purchase energy-efficient vehicles or solar panels.'\n",
    "]].copy()\n",
    "\n",
    "df_model.columns = [\n",
    "    'Willing_To_Pay', 'Belief', 'Worry', 'Harm_Future', 'Harm_People',\n",
    "    'Support_Research', 'Carbon_Tax', 'Tax_Rebate'\n",
    "]\n",
    "\n",
    "# STEP 3 — Drop missing data\n",
    "df_model = df_model.dropna()\n",
    "\n",
    "# STEP 4 — Encode target as binary: Willing_To_Pay >= 3 -> 1\n",
    "df_model['Willing_To_Pay_Binary'] = df_model['Willing_To_Pay'].apply(lambda x: 1 if x >= 3 else 0)\n",
    "\n",
    "# STEP 5 — Define features and labels\n",
    "X = df_model.drop(columns=['Willing_To_Pay', 'Willing_To_Pay_Binary'])\n",
    "y = df_model['Willing_To_Pay_Binary']\n",
    "\n",
    "# STEP 6 — Train/test split\n",
    "X_train, X_test, y_train, y_test = train_test_split(X, y, test_size=0.2, random_state=42)\n",
    "\n",
    "# STEP 7 — Logistic Regression with class balancing\n",
    "model = LogisticRegression(class_weight='balanced', max_iter=1000)\n",
    "model.fit(X_train, y_train)\n",
    "y_pred = model.predict(X_test)\n",
    "\n",
    "# STEP 8 — Evaluation\n",
    "accuracy = accuracy_score(y_test, y_pred)\n",
    "report = classification_report(y_test, y_pred)\n",
    "\n",
    "# STEP 9 — Confusion matrix\n",
    "conf_matrix = confusion_matrix(y_test, y_pred)\n",
    "\n",
    "# Output\n",
    "print(\"\\n--- Logistic Regression (Final Version) ---\")\n",
    "print(\"Accuracy:\", accuracy)\n",
    "print(report)\n",
    "\n",
    "# Plot confusion matrix\n",
    "plt.figure(figsize=(6, 4))\n",
    "sns.heatmap(conf_matrix, annot=True, fmt=\"d\", cmap=\"Blues\", xticklabels=[\"No\", \"Yes\"], yticklabels=[\"No\", \"Yes\"])\n",
    "plt.xlabel(\"Predicted\")\n",
    "plt.ylabel(\"Actual\")\n",
    "plt.title(\"Confusion Matrix — Willingness to Pay\")\n",
    "plt.tight_layout()\n",
    "plt.show()\n",
    "\n",
    "\n"
   ]
  },
  {
   "cell_type": "code",
   "execution_count": null,
   "id": "c10db651-658b-4c03-9661-1368cbf0f86f",
   "metadata": {},
   "outputs": [],
   "source": []
  }
 ],
 "metadata": {
  "kernelspec": {
   "display_name": "Python 3 (ipykernel)",
   "language": "python",
   "name": "python3"
  },
  "language_info": {
   "codemirror_mode": {
    "name": "ipython",
    "version": 3
   },
   "file_extension": ".py",
   "mimetype": "text/x-python",
   "name": "python",
   "nbconvert_exporter": "python",
   "pygments_lexer": "ipython3",
   "version": "3.10.18"
  }
 },
 "nbformat": 4,
 "nbformat_minor": 5
}
