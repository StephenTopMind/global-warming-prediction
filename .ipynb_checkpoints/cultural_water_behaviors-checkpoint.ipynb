{
 "cells": [
  {
   "cell_type": "code",
   "execution_count": 2,
   "id": "1e7576d7-62de-434b-8e21-ea9942bff042",
   "metadata": {},
   "outputs": [
    {
     "name": "stdout",
     "output_type": "stream",
     "text": [
      "✅ Tidy summary saved as: water_behavior_tidy_summary.xlsx\n"
     ]
    }
   ],
   "source": [
    "import pandas as pd\n",
    "\n",
    "# STEP 1 — Load the dataset\n",
    "df = pd.read_excel(\"fully_encoded_dataset_complete.xlsx\")\n",
    "\n",
    "# STEP 2 — Create Cultural_Group from Region and Country\n",
    "def map_cultural_group(row):\n",
    "    country = str(row['What is your country of origin?']).strip().lower()\n",
    "    region = str(row['Region']).strip().lower()\n",
    "    \n",
    "    if 'italy' in country:\n",
    "        if any(r in region for r in ['Lombardia', 'Veneto', 'Friuli-Venezia Giulia', 'Trentino-Alto Adige / Trentino-Sudtirol', 'Piemonte', 'Emilia-Romagna', 'Liguria']):\n",
    "            return 'Italy_North'\n",
    "        elif any(r in region for r in ['Toscana', 'Lazio', 'Umbria', 'Marche', 'Sardegna']):\n",
    "            return 'Italy_Center'\n",
    "        elif any(r in region for r in ['Abruzzo', 'Molise', 'Campania', 'Puglia', 'Basilicata', 'Calabria', 'Sicilia']):\n",
    "            return 'Italy_South'\n",
    "        else:\n",
    "            return 'Italy_Other'\n",
    "    else:\n",
    "        return 'Other_Countries'\n",
    "\n",
    "df['Cultural_Group'] = df.apply(map_cultural_group, axis=1)\n",
    "\n",
    "# STEP 3 — Rename columns for clarity\n",
    "rename_map = {\n",
    "    '2.  I turn off water while shampooing or soaping my body.': 'Turn_Off_Shower',\n",
    "    '3.   How often do you usually run the washing machine with just a few items inside even if it isn’t completely full?': 'Washing_Half_Load',\n",
    "    '5. When ‘’nature calls’’ what do you use for your hygiene?': 'Hygiene_Method',\n",
    "    '6. Do you reuse the water that exits from your AC (Air Conditioner)?': 'Reuse_AC_Water',\n",
    "    '9. Do you let the water run while brushing your teeth?': 'Teeth_Water_Run'\n",
    "}\n",
    "df = df.rename(columns=rename_map)\n",
    "\n",
    "# STEP 4 — Transform to tidy format\n",
    "relevant_cols = ['Cultural_Group'] + list(rename_map.values())\n",
    "df_tidy = df[relevant_cols].melt(id_vars='Cultural_Group',\n",
    "                                  var_name='Water_Behavior',\n",
    "                                  value_name='Response')\n",
    "\n",
    "# STEP 5 — Count frequencies\n",
    "behavior_summary = df_tidy.groupby(['Cultural_Group', 'Water_Behavior', 'Response']).size().reset_index(name='Count')\n",
    "\n",
    "# STEP 6 — Export to Excel\n",
    "behavior_summary.to_excel(\"water_behavior_tidy_summary.xlsx\", index=False)\n",
    "print(\"✅ Tidy summary saved as: water_behavior_tidy_summary.xlsx\")\n"
   ]
  },
  {
   "cell_type": "code",
   "execution_count": null,
   "id": "3cbd1653-c69c-4234-9a5a-ee20a7cb5641",
   "metadata": {},
   "outputs": [],
   "source": []
  }
 ],
 "metadata": {
  "kernelspec": {
   "display_name": "Python 3 (ipykernel)",
   "language": "python",
   "name": "python3"
  },
  "language_info": {
   "codemirror_mode": {
    "name": "ipython",
    "version": 3
   },
   "file_extension": ".py",
   "mimetype": "text/x-python",
   "name": "python",
   "nbconvert_exporter": "python",
   "pygments_lexer": "ipython3",
   "version": "3.10.18"
  }
 },
 "nbformat": 4,
 "nbformat_minor": 5
}
